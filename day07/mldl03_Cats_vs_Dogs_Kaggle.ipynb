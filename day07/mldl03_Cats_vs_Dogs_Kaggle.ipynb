{
 "cells": [
  {
   "cell_type": "code",
   "execution_count": null,
   "metadata": {
    "_cell_guid": "b1076dfc-b9ad-4769-8c92-a6c4dae69d19",
    "_uuid": "8f2839f25d086af736a60e9eeb907d3b93b6e0e5",
    "execution": {
     "iopub.execute_input": "2025-04-16T06:00:21.803195Z",
     "iopub.status.busy": "2025-04-16T06:00:21.802914Z",
     "iopub.status.idle": "2025-04-16T06:00:22.158583Z",
     "shell.execute_reply": "2025-04-16T06:00:22.157599Z",
     "shell.execute_reply.started": "2025-04-16T06:00:21.803172Z"
    },
    "trusted": true
   },
   "outputs": [],
   "source": [
    "# This Python 3 environment comes with many helpful analytics libraries installed\n",
    "# It is defined by the kaggle/python Docker image: https://github.com/kaggle/docker-python\n",
    "# For example, here's several helpful packages to load\n",
    "\n",
    "import numpy as np # linear algebra\n",
    "import pandas as pd # data processing, CSV file I/O (e.g. pd.read_csv)\n",
    "\n",
    "# Input data files are available in the read-only \"../input/\" directory\n",
    "# For example, running this (by clicking run or pressing Shift+Enter) will list all files under the input directory\n",
    "\n",
    "import os\n",
    "for dirname, _, filenames in os.walk('/kaggle/input'):\n",
    "    for filename in filenames:\n",
    "        print(os.path.join(dirname, filename))\n",
    "\n",
    "# You can write up to 20GB to the current directory (/kaggle/working/) that gets preserved as output when you create a version using \"Save & Run All\" \n",
    "# You can also write temporary files to /kaggle/temp/, but they won't be saved outside of the current session"
   ]
  },
  {
   "cell_type": "markdown",
   "metadata": {},
   "source": [
    "### Load Modules\n",
    "\n",
    "- Kaggle 압축파일, 경로가 상이하기 때문에 Kaggle에 맞춰서 변경"
   ]
  },
  {
   "cell_type": "code",
   "execution_count": null,
   "metadata": {
    "execution": {
     "iopub.execute_input": "2025-04-16T06:10:05.482256Z",
     "iopub.status.busy": "2025-04-16T06:10:05.481929Z",
     "iopub.status.idle": "2025-04-16T06:10:05.487247Z",
     "shell.execute_reply": "2025-04-16T06:10:05.486537Z",
     "shell.execute_reply.started": "2025-04-16T06:10:05.482233Z"
    },
    "trusted": true
   },
   "outputs": [],
   "source": [
    "import random, shutil, zipfile\n",
    "import torch\n",
    "import torch.nn as nn\n",
    "import torch.nn.functional as F\n",
    "from torchvision import datasets, transforms\n",
    "from torch.utils.data import DataLoader\n",
    "from PIL import Image\n",
    "import matplotlib.pyplot as plt"
   ]
  },
  {
   "cell_type": "code",
   "execution_count": null,
   "metadata": {
    "execution": {
     "iopub.execute_input": "2025-04-16T06:04:12.918269Z",
     "iopub.status.busy": "2025-04-16T06:04:12.917572Z",
     "iopub.status.idle": "2025-04-16T06:04:12.922700Z",
     "shell.execute_reply": "2025-04-16T06:04:12.921816Z",
     "shell.execute_reply.started": "2025-04-16T06:04:12.918234Z"
    },
    "trusted": true
   },
   "outputs": [],
   "source": [
    "base_dir = '/kaggle/working/data/sample'\n",
    "os.makedirs(f'{base_dir}/cat', exist_ok=True)\n",
    "os.makedirs(f'{base_dir}/dog', exist_ok=True)"
   ]
  },
  {
   "cell_type": "code",
   "execution_count": null,
   "metadata": {
    "execution": {
     "iopub.execute_input": "2025-04-16T06:06:30.334551Z",
     "iopub.status.busy": "2025-04-16T06:06:30.334043Z",
     "iopub.status.idle": "2025-04-16T06:06:30.340017Z",
     "shell.execute_reply": "2025-04-16T06:06:30.339144Z",
     "shell.execute_reply.started": "2025-04-16T06:06:30.334527Z"
    },
    "trusted": true
   },
   "outputs": [],
   "source": [
    "# 현재 내 노트북 아래 폴더 확인\n",
    "os.listdir('./data/sample/dog')"
   ]
  },
  {
   "cell_type": "markdown",
   "metadata": {},
   "source": [
    "#### 폴더 압축파일 해제\n",
    "- /kaggle/input/dogs-vs-cats/test1.zip\n",
    "- /kaggle/input/dogs-vs-cats/train.zip"
   ]
  },
  {
   "cell_type": "code",
   "execution_count": null,
   "metadata": {
    "execution": {
     "iopub.execute_input": "2025-04-16T06:22:12.885951Z",
     "iopub.status.busy": "2025-04-16T06:22:12.885534Z",
     "iopub.status.idle": "2025-04-16T06:22:20.161316Z",
     "shell.execute_reply": "2025-04-16T06:22:20.160628Z",
     "shell.execute_reply.started": "2025-04-16T06:22:12.885925Z"
    },
    "trusted": true
   },
   "outputs": [],
   "source": [
    "zip_path = '/kaggle/input/dogs-vs-cats/train.zip'\n",
    "target_path = '/kaggle/working/train'\n",
    "\n",
    "with zipfile.ZipFile(zip_path, 'r') as zip_ref:\n",
    "    zip_ref.extractall(target_path)\n",
    "\n",
    "print('done with extraction')"
   ]
  },
  {
   "cell_type": "code",
   "execution_count": null,
   "metadata": {
    "execution": {
     "iopub.execute_input": "2025-04-16T06:50:25.109203Z",
     "iopub.status.busy": "2025-04-16T06:50:25.108891Z",
     "iopub.status.idle": "2025-04-16T06:50:31.403266Z",
     "shell.execute_reply": "2025-04-16T06:50:31.402393Z",
     "shell.execute_reply.started": "2025-04-16T06:50:25.109180Z"
    },
    "trusted": true
   },
   "outputs": [],
   "source": [
    "## test1.zip \n",
    "zip_path = '/kaggle/input/dogs-vs-cats/test1.zip'\n",
    "target_path = '/kaggle/working'\n",
    "\n",
    "with zipfile.ZipFile(zip_path, 'r') as zip_ref:\n",
    "    zip_ref.extractall(target_path)\n",
    "\n",
    "print('done with extraction')"
   ]
  },
  {
   "cell_type": "code",
   "execution_count": null,
   "metadata": {
    "execution": {
     "iopub.execute_input": "2025-04-16T06:23:33.816044Z",
     "iopub.status.busy": "2025-04-16T06:23:33.815304Z",
     "iopub.status.idle": "2025-04-16T06:23:33.820905Z",
     "shell.execute_reply": "2025-04-16T06:23:33.820236Z",
     "shell.execute_reply.started": "2025-04-16T06:23:33.816019Z"
    },
    "trusted": true
   },
   "outputs": [],
   "source": [
    "target_path"
   ]
  },
  {
   "cell_type": "code",
   "execution_count": null,
   "metadata": {
    "execution": {
     "iopub.execute_input": "2025-04-16T06:22:54.178462Z",
     "iopub.status.busy": "2025-04-16T06:22:54.177683Z",
     "iopub.status.idle": "2025-04-16T06:22:54.184230Z",
     "shell.execute_reply": "2025-04-16T06:22:54.183444Z",
     "shell.execute_reply.started": "2025-04-16T06:22:54.178433Z"
    },
    "trusted": true
   },
   "outputs": [],
   "source": [
    "image_files = os.listdir(target_path)\n",
    "len(image_files)"
   ]
  },
  {
   "cell_type": "code",
   "execution_count": null,
   "metadata": {
    "execution": {
     "iopub.execute_input": "2025-04-16T06:25:00.087281Z",
     "iopub.status.busy": "2025-04-16T06:25:00.086974Z",
     "iopub.status.idle": "2025-04-16T06:25:00.107826Z",
     "shell.execute_reply": "2025-04-16T06:25:00.107139Z",
     "shell.execute_reply.started": "2025-04-16T06:25:00.087259Z"
    },
    "trusted": true
   },
   "outputs": [],
   "source": [
    "len( os.listdir(target_path + '/train'))"
   ]
  },
  {
   "cell_type": "code",
   "execution_count": null,
   "metadata": {
    "execution": {
     "iopub.execute_input": "2025-04-16T06:51:10.278434Z",
     "iopub.status.busy": "2025-04-16T06:51:10.278130Z",
     "iopub.status.idle": "2025-04-16T06:51:10.291044Z",
     "shell.execute_reply": "2025-04-16T06:51:10.290281Z",
     "shell.execute_reply.started": "2025-04-16T06:51:10.278412Z"
    },
    "trusted": true
   },
   "outputs": [],
   "source": [
    "len(os.listdir('/kaggle/working/test1'))"
   ]
  },
  {
   "cell_type": "code",
   "execution_count": null,
   "metadata": {
    "execution": {
     "iopub.execute_input": "2025-04-16T06:28:53.873251Z",
     "iopub.status.busy": "2025-04-16T06:28:53.872479Z",
     "iopub.status.idle": "2025-04-16T06:28:53.878875Z",
     "shell.execute_reply": "2025-04-16T06:28:53.878218Z",
     "shell.execute_reply.started": "2025-04-16T06:28:53.873219Z"
    },
    "trusted": true
   },
   "outputs": [],
   "source": [
    "len(os.listdir('./data/sample/dog'))"
   ]
  },
  {
   "cell_type": "code",
   "execution_count": null,
   "metadata": {
    "execution": {
     "iopub.execute_input": "2025-04-16T06:28:58.915335Z",
     "iopub.status.busy": "2025-04-16T06:28:58.915037Z",
     "iopub.status.idle": "2025-04-16T06:28:58.921276Z",
     "shell.execute_reply": "2025-04-16T06:28:58.920604Z",
     "shell.execute_reply.started": "2025-04-16T06:28:58.915311Z"
    },
    "trusted": true
   },
   "outputs": [],
   "source": [
    "len(os.listdir('./data/sample/cat'))"
   ]
  },
  {
   "cell_type": "markdown",
   "metadata": {},
   "source": [
    "### 여기서 부터는 로컬 작업과 일치"
   ]
  },
  {
   "cell_type": "code",
   "execution_count": null,
   "metadata": {
    "execution": {
     "iopub.execute_input": "2025-04-16T06:27:30.637681Z",
     "iopub.status.busy": "2025-04-16T06:27:30.637085Z",
     "iopub.status.idle": "2025-04-16T06:27:30.642963Z",
     "shell.execute_reply": "2025-04-16T06:27:30.642047Z",
     "shell.execute_reply.started": "2025-04-16T06:27:30.637656Z"
    },
    "trusted": true
   },
   "outputs": [],
   "source": [
    "# 500개씩 샘플링 함수\n",
    "def sample_data(src_dir, dst_dir, num_samples=500):\n",
    "    os.makedirs(dst_dir, exist_ok=True)  # 폴더 생성, exist_ok=True 이미 존재하면 다시 만들지 않음\n",
    "    all_files = [f for f in os.listdir(src_dir) if f.startswith(dst_dir.split('/')[-1])]\n",
    "    samples = random.sample(all_files, num_samples)\n",
    "    for f in samples:\n",
    "        shutil.copy(os.path.join(src_dir, f), os.path.join(dst_dir, f))"
   ]
  },
  {
   "cell_type": "markdown",
   "metadata": {},
   "source": [
    "#### 아래 경로만 캐글에 맞게 변경할 것"
   ]
  },
  {
   "cell_type": "code",
   "execution_count": null,
   "metadata": {
    "execution": {
     "iopub.execute_input": "2025-04-16T06:28:28.753465Z",
     "iopub.status.busy": "2025-04-16T06:28:28.753169Z",
     "iopub.status.idle": "2025-04-16T06:28:28.933654Z",
     "shell.execute_reply": "2025-04-16T06:28:28.933090Z",
     "shell.execute_reply.started": "2025-04-16T06:28:28.753441Z"
    },
    "trusted": true
   },
   "outputs": [],
   "source": [
    "# sample_data() 함수 사용\n",
    "sample_data(target_path + '/train', './data/sample/cat', 500)\n",
    "sample_data(target_path + '/train', './data/sample/dog', 500)"
   ]
  },
  {
   "cell_type": "code",
   "execution_count": null,
   "metadata": {
    "execution": {
     "iopub.execute_input": "2025-04-16T06:29:14.196613Z",
     "iopub.status.busy": "2025-04-16T06:29:14.196347Z",
     "iopub.status.idle": "2025-04-16T06:29:14.201227Z",
     "shell.execute_reply": "2025-04-16T06:29:14.200285Z",
     "shell.execute_reply.started": "2025-04-16T06:29:14.196593Z"
    },
    "trusted": true
   },
   "outputs": [],
   "source": [
    "# 파이토치 모듈 로드\n",
    "from torchvision.datasets import ImageFolder\n",
    "from torchvision import transforms\n",
    "from torch.utils.data import Dataset, DataLoader"
   ]
  },
  {
   "cell_type": "code",
   "execution_count": null,
   "metadata": {
    "execution": {
     "iopub.execute_input": "2025-04-16T06:29:22.084018Z",
     "iopub.status.busy": "2025-04-16T06:29:22.083671Z",
     "iopub.status.idle": "2025-04-16T06:29:22.088428Z",
     "shell.execute_reply": "2025-04-16T06:29:22.087700Z",
     "shell.execute_reply.started": "2025-04-16T06:29:22.083994Z"
    },
    "trusted": true
   },
   "outputs": [],
   "source": [
    "transform = transforms.Compose([\n",
    "    transforms.Resize((128, 128)),\n",
    "    transforms.ToTensor()\n",
    "])"
   ]
  },
  {
   "cell_type": "code",
   "execution_count": null,
   "metadata": {
    "execution": {
     "iopub.execute_input": "2025-04-16T06:29:45.304405Z",
     "iopub.status.busy": "2025-04-16T06:29:45.303627Z",
     "iopub.status.idle": "2025-04-16T06:29:45.312472Z",
     "shell.execute_reply": "2025-04-16T06:29:45.311834Z",
     "shell.execute_reply.started": "2025-04-16T06:29:45.304379Z"
    },
    "trusted": true
   },
   "outputs": [],
   "source": [
    "train_dataset = ImageFolder('./data/sample', transform=transform)\n",
    "train_loader = DataLoader(train_dataset, batch_size=32, shuffle=True)"
   ]
  },
  {
   "cell_type": "code",
   "execution_count": null,
   "metadata": {
    "execution": {
     "iopub.execute_input": "2025-04-16T06:29:53.108393Z",
     "iopub.status.busy": "2025-04-16T06:29:53.108116Z",
     "iopub.status.idle": "2025-04-16T06:29:53.114498Z",
     "shell.execute_reply": "2025-04-16T06:29:53.113079Z",
     "shell.execute_reply.started": "2025-04-16T06:29:53.108373Z"
    },
    "trusted": true
   },
   "outputs": [],
   "source": [
    "len(train_loader)"
   ]
  },
  {
   "cell_type": "code",
   "execution_count": null,
   "metadata": {
    "execution": {
     "iopub.execute_input": "2025-04-16T06:30:39.863303Z",
     "iopub.status.busy": "2025-04-16T06:30:39.863006Z",
     "iopub.status.idle": "2025-04-16T06:30:40.180102Z",
     "shell.execute_reply": "2025-04-16T06:30:40.179172Z",
     "shell.execute_reply.started": "2025-04-16T06:30:39.863280Z"
    },
    "trusted": true
   },
   "outputs": [],
   "source": [
    "# 배치하나 꺼내기\n",
    "images, labels = next(iter(train_loader))"
   ]
  },
  {
   "cell_type": "code",
   "execution_count": null,
   "metadata": {
    "execution": {
     "iopub.execute_input": "2025-04-16T06:30:47.455089Z",
     "iopub.status.busy": "2025-04-16T06:30:47.454719Z",
     "iopub.status.idle": "2025-04-16T06:30:47.464666Z",
     "shell.execute_reply": "2025-04-16T06:30:47.463682Z",
     "shell.execute_reply.started": "2025-04-16T06:30:47.455065Z"
    },
    "trusted": true
   },
   "outputs": [],
   "source": [
    "images[0].shape"
   ]
  },
  {
   "cell_type": "code",
   "execution_count": null,
   "metadata": {
    "execution": {
     "iopub.execute_input": "2025-04-16T06:30:57.913276Z",
     "iopub.status.busy": "2025-04-16T06:30:57.912497Z",
     "iopub.status.idle": "2025-04-16T06:30:57.916917Z",
     "shell.execute_reply": "2025-04-16T06:30:57.916122Z",
     "shell.execute_reply.started": "2025-04-16T06:30:57.913246Z"
    },
    "trusted": true
   },
   "outputs": [],
   "source": [
    "class_names = ['cat', 'dog']"
   ]
  },
  {
   "cell_type": "code",
   "execution_count": null,
   "metadata": {
    "execution": {
     "iopub.execute_input": "2025-04-16T06:31:04.585161Z",
     "iopub.status.busy": "2025-04-16T06:31:04.584827Z",
     "iopub.status.idle": "2025-04-16T06:31:05.831679Z",
     "shell.execute_reply": "2025-04-16T06:31:05.830700Z",
     "shell.execute_reply.started": "2025-04-16T06:31:04.585137Z"
    },
    "trusted": true
   },
   "outputs": [],
   "source": [
    "# 시각화\n",
    "plt.figure(figsize=(12, 4))\n",
    "for i in range(16): # 32개 중 반만 표현\n",
    "    plt.subplot(2, 8, i+1)\n",
    "\n",
    "    img = images[i].permute(1, 2, 0)  # 컬러채널이기 때문에 matplotlib 표현시 순서 변경\n",
    "    plt.imshow(img)\n",
    "    plt.title(f'{class_names[labels[i].item()]}')\n",
    "    plt.axis('off')\n",
    "\n",
    "plt.tight_layout()\n",
    "plt.show()"
   ]
  },
  {
   "cell_type": "markdown",
   "metadata": {},
   "source": [
    "### CNN Model"
   ]
  },
  {
   "cell_type": "code",
   "execution_count": null,
   "metadata": {
    "execution": {
     "iopub.execute_input": "2025-04-16T06:42:05.532468Z",
     "iopub.status.busy": "2025-04-16T06:42:05.532185Z",
     "iopub.status.idle": "2025-04-16T06:42:05.536997Z",
     "shell.execute_reply": "2025-04-16T06:42:05.536219Z",
     "shell.execute_reply.started": "2025-04-16T06:42:05.532448Z"
    },
    "trusted": true
   },
   "outputs": [],
   "source": [
    "# 사용모듈 로드\n",
    "import torch\n",
    "import torch.nn as nn\n",
    "import torch.nn.functional as F"
   ]
  },
  {
   "cell_type": "code",
   "execution_count": null,
   "metadata": {
    "execution": {
     "iopub.execute_input": "2025-04-16T06:42:17.596632Z",
     "iopub.status.busy": "2025-04-16T06:42:17.596299Z",
     "iopub.status.idle": "2025-04-16T06:42:17.604427Z",
     "shell.execute_reply": "2025-04-16T06:42:17.603289Z",
     "shell.execute_reply.started": "2025-04-16T06:42:17.596604Z"
    },
    "trusted": true
   },
   "outputs": [],
   "source": [
    "# 클래스 정의\n",
    "class CatDogCNN(nn.Module):\n",
    "    def __init__(self):\n",
    "        super(CatDogCNN, self).__init__()\n",
    "        self.conv1 = nn.Conv2d(3, 32, kernel_size=3, padding=1)\n",
    "        self.pool = nn.MaxPool2d(2, 2)  # conv1, conv2 모두 사용\n",
    "        self.conv2 = nn.Conv2d(32, 64, kernel_size=3, padding=1)\n",
    "        self.fc1 = nn.Linear(64 * 32 * 32, 128) # MaxPool(128) -> MaxPool(64) -> 32x32 \n",
    "        self.fc2 = nn.Linear(128, 1)  # 마지막 분류가 0, 1 \n",
    "\n",
    "    def forward(self, x):\n",
    "        # conv -> activation -> maxpooling 2회실시\n",
    "        # dense1, 2 통과\n",
    "        x = self.pool(F.relu(self.conv1(x)))\n",
    "        x = self.pool(F.relu(self.conv2(x)))        \n",
    "        x = x.view(-1, 64 * 32 * 32)                # flattern -> 1차원 배열화, 65,536개 입력\n",
    "        x = F.relu(self.fc1(x))\n",
    "        x = torch.sigmoid(self.fc2(x))              # F.sigmoid() deprecated\n",
    "        return x"
   ]
  },
  {
   "cell_type": "markdown",
   "metadata": {},
   "source": [
    "### Train"
   ]
  },
  {
   "cell_type": "code",
   "execution_count": null,
   "metadata": {
    "execution": {
     "iopub.execute_input": "2025-04-16T06:42:34.828634Z",
     "iopub.status.busy": "2025-04-16T06:42:34.828323Z",
     "iopub.status.idle": "2025-04-16T06:42:34.934420Z",
     "shell.execute_reply": "2025-04-16T06:42:34.933668Z",
     "shell.execute_reply.started": "2025-04-16T06:42:34.828609Z"
    },
    "trusted": true
   },
   "outputs": [],
   "source": [
    "# cuda 준비\n",
    "device = torch.device('cuda' if torch.cuda.is_available() else 'cpu')\n",
    "model = CatDogCNN().to(device)\n",
    "criterion = nn.BCELoss()  # Binary Cross Entropy 손실함수\n",
    "optimizer = torch.optim.Adam(model.parameters(), lr=0.001)"
   ]
  },
  {
   "cell_type": "code",
   "execution_count": null,
   "metadata": {
    "execution": {
     "iopub.execute_input": "2025-04-16T06:42:41.996305Z",
     "iopub.status.busy": "2025-04-16T06:42:41.996010Z",
     "iopub.status.idle": "2025-04-16T06:42:42.001986Z",
     "shell.execute_reply": "2025-04-16T06:42:42.001278Z",
     "shell.execute_reply.started": "2025-04-16T06:42:41.996282Z"
    },
    "trusted": true
   },
   "outputs": [],
   "source": [
    "device"
   ]
  },
  {
   "cell_type": "code",
   "execution_count": null,
   "metadata": {
    "execution": {
     "iopub.execute_input": "2025-04-16T06:43:04.461961Z",
     "iopub.status.busy": "2025-04-16T06:43:04.461584Z",
     "iopub.status.idle": "2025-04-16T06:43:04.467990Z",
     "shell.execute_reply": "2025-04-16T06:43:04.466802Z",
     "shell.execute_reply.started": "2025-04-16T06:43:04.461934Z"
    },
    "trusted": true
   },
   "outputs": [],
   "source": [
    "# 훈련함수 정의\n",
    "def train(model, loader, criterion, optimizer):\n",
    "    model.train()  # 훈련모드\n",
    "    total_loss = 0\n",
    "\n",
    "    for images, labels in loader:\n",
    "        images, labels = images.to(device), labels.float().to(device).unsqueeze(1)  # 1, 0 -> [1,], [0,]\n",
    "        optimizer.zero_grad()\n",
    "        outputs = model(images)\n",
    "        loss = criterion(outputs, labels)\n",
    "        loss.backward()\n",
    "        optimizer.step()        \n",
    "        total_loss += loss.item()\n",
    "\n",
    "    return total_loss / len(loader)"
   ]
  },
  {
   "cell_type": "code",
   "execution_count": null,
   "metadata": {
    "execution": {
     "iopub.execute_input": "2025-04-16T06:43:15.758163Z",
     "iopub.status.busy": "2025-04-16T06:43:15.757855Z",
     "iopub.status.idle": "2025-04-16T06:47:43.143163Z",
     "shell.execute_reply": "2025-04-16T06:47:43.142184Z",
     "shell.execute_reply.started": "2025-04-16T06:43:15.758141Z"
    },
    "trusted": true
   },
   "outputs": [],
   "source": [
    "# 훈련\n",
    "EPOCH = 10\n",
    "for epoch in range(EPOCH):\n",
    "    loss = train(model, train_loader, criterion, optimizer)\n",
    "    print(f'[{epoch+1}/{EPOCH}] Loss: {loss:.4f}')"
   ]
  },
  {
   "cell_type": "code",
   "execution_count": null,
   "metadata": {
    "execution": {
     "iopub.execute_input": "2025-04-16T06:48:43.206102Z",
     "iopub.status.busy": "2025-04-16T06:48:43.205339Z",
     "iopub.status.idle": "2025-04-16T06:48:44.671206Z",
     "shell.execute_reply": "2025-04-16T06:48:44.670194Z",
     "shell.execute_reply.started": "2025-04-16T06:48:43.206066Z"
    },
    "trusted": true
   },
   "outputs": [],
   "source": [
    "# 검증\n",
    "model.eval()\n",
    "images, labels = next(iter(train_loader))\n",
    "images = images.to(device) \n",
    "with torch.no_grad():\n",
    "    outputs = model(images)\n",
    "    preds = (outputs > 0.5).int().cpu().squeeze()\n",
    "\n",
    "plt.figure(figsize=(12, 4))\n",
    "for i in range(16):\n",
    "    plt.subplot(2, 8, i+1)\n",
    "    plt.imshow(images[i].cpu().permute(1, 2, 0))\n",
    "    pred_label = 'dog' if preds[i] == 1 else 'cat'\n",
    "    true_label = 'dog' if labels[i] == 1 else 'cat'\n",
    "    color = 'green' if pred_label == true_label else 'red'\n",
    "    plt.title(f'Pred : {pred_label}\\nTrue : {true_label}', color=color)\n",
    "    plt.axis('off')\n",
    "\n",
    "plt.tight_layout()\n",
    "plt.show()"
   ]
  },
  {
   "cell_type": "markdown",
   "metadata": {},
   "source": [
    "#### 캐글 경로 주의!"
   ]
  },
  {
   "cell_type": "code",
   "execution_count": null,
   "metadata": {
    "execution": {
     "iopub.execute_input": "2025-04-16T06:52:18.490516Z",
     "iopub.status.busy": "2025-04-16T06:52:18.489718Z",
     "iopub.status.idle": "2025-04-16T06:52:18.505402Z",
     "shell.execute_reply": "2025-04-16T06:52:18.504352Z",
     "shell.execute_reply.started": "2025-04-16T06:52:18.490488Z"
    },
    "trusted": true
   },
   "outputs": [],
   "source": [
    "test_dir = '/kaggle/working/test1'\n",
    "image_files = [f for f in os.listdir(test_dir) if f.endswith(('.jpg', '.png'))]\n",
    "len(image_files)"
   ]
  },
  {
   "cell_type": "code",
   "execution_count": null,
   "metadata": {
    "execution": {
     "iopub.execute_input": "2025-04-16T06:52:32.267600Z",
     "iopub.status.busy": "2025-04-16T06:52:32.267302Z",
     "iopub.status.idle": "2025-04-16T06:52:34.259825Z",
     "shell.execute_reply": "2025-04-16T06:52:34.258832Z",
     "shell.execute_reply.started": "2025-04-16T06:52:32.267577Z"
    },
    "trusted": true
   },
   "outputs": [],
   "source": [
    "# 예측과 시각화 동시\n",
    "plt.figure(figsize=(12, 12))\n",
    "for i, fname in enumerate(image_files[0:16]):  # 최대 16장까지 출력 0:16, 16:32, 32:48\n",
    "    img_path = os.path.join(test_dir, fname)\n",
    "    img = Image.open(img_path).convert('RGB')\n",
    "    img_tensor = transform(img).unsqueeze(0).to(device)\n",
    "\n",
    "    with torch.no_grad():\n",
    "        output = model(img_tensor)\n",
    "        pred = 'Dog' if output.item() > 0.5 else 'Cat'\n",
    "\n",
    "    # 이미지 출력\n",
    "    plt.subplot(4, 4, i + 1)\n",
    "    plt.imshow(img)\n",
    "    plt.title(f'{pred}\\n({fname})', fontsize=10)\n",
    "    plt.axis('off')\n",
    "\n",
    "plt.tight_layout()\n",
    "plt.show()"
   ]
  },
  {
   "cell_type": "markdown",
   "metadata": {},
   "source": [
    "### making Submission.csv \n",
    "\n",
    "- 캐글에 맞춰서 추가 작성할 것"
   ]
  },
  {
   "cell_type": "code",
   "execution_count": null,
   "metadata": {
    "execution": {
     "iopub.execute_input": "2025-04-16T06:55:32.357013Z",
     "iopub.status.busy": "2025-04-16T06:55:32.356659Z",
     "iopub.status.idle": "2025-04-16T06:55:32.362307Z",
     "shell.execute_reply": "2025-04-16T06:55:32.361407Z",
     "shell.execute_reply.started": "2025-04-16T06:55:32.356979Z"
    },
    "trusted": true
   },
   "outputs": [],
   "source": [
    "test_dir = '/kaggle/working/test1'\n",
    "\n",
    "test_transform = transforms.Compose([\n",
    "    transforms.Resize((128, 128)),\n",
    "    transforms.ToTensor(),\n",
    "    transforms.Normalize((0.5,), (0.5,))\n",
    "])"
   ]
  },
  {
   "cell_type": "code",
   "execution_count": null,
   "metadata": {
    "execution": {
     "iopub.execute_input": "2025-04-16T06:56:03.765882Z",
     "iopub.status.busy": "2025-04-16T06:56:03.765552Z",
     "iopub.status.idle": "2025-04-16T06:56:03.772942Z",
     "shell.execute_reply": "2025-04-16T06:56:03.772215Z",
     "shell.execute_reply.started": "2025-04-16T06:56:03.765857Z"
    },
    "trusted": true
   },
   "outputs": [],
   "source": [
    "class TestDataset(torch.utils.data.Dataset):\n",
    "    def __init__(self, path, transform):\n",
    "        self.path = path\n",
    "        self.files = sorted([f for f in os.listdir(path) if f.endswith('.jpg')],\n",
    "                            key=lambda x: int(x.split('.')[0]))\n",
    "        self.transform = transform\n",
    "\n",
    "    def __len__(self):\n",
    "        return len(self.files)\n",
    "\n",
    "    def __getitem__(self, idx):\n",
    "        img_name = self.files[idx]\n",
    "        img_path = os.path.join(self.path, img_name)\n",
    "        image = Image.open(img_path).convert('RGB')\n",
    "        image = self.transform(image)\n",
    "        img_id = int(img_name.split('.')[0])\n",
    "        return image, img_id"
   ]
  },
  {
   "cell_type": "code",
   "execution_count": null,
   "metadata": {
    "execution": {
     "iopub.execute_input": "2025-04-16T06:56:23.542740Z",
     "iopub.status.busy": "2025-04-16T06:56:23.542438Z",
     "iopub.status.idle": "2025-04-16T06:56:23.565017Z",
     "shell.execute_reply": "2025-04-16T06:56:23.564232Z",
     "shell.execute_reply.started": "2025-04-16T06:56:23.542715Z"
    },
    "trusted": true
   },
   "outputs": [],
   "source": [
    "test_dataset = TestDataset(test_dir, test_transform)"
   ]
  },
  {
   "cell_type": "code",
   "execution_count": null,
   "metadata": {
    "execution": {
     "iopub.execute_input": "2025-04-16T06:56:32.503904Z",
     "iopub.status.busy": "2025-04-16T06:56:32.503458Z",
     "iopub.status.idle": "2025-04-16T06:56:32.509507Z",
     "shell.execute_reply": "2025-04-16T06:56:32.508618Z",
     "shell.execute_reply.started": "2025-04-16T06:56:32.503876Z"
    },
    "trusted": true
   },
   "outputs": [],
   "source": [
    "len(test_dataset)"
   ]
  },
  {
   "cell_type": "code",
   "execution_count": null,
   "metadata": {
    "execution": {
     "iopub.execute_input": "2025-04-16T06:56:57.336615Z",
     "iopub.status.busy": "2025-04-16T06:56:57.336337Z",
     "iopub.status.idle": "2025-04-16T06:56:57.341488Z",
     "shell.execute_reply": "2025-04-16T06:56:57.340524Z",
     "shell.execute_reply.started": "2025-04-16T06:56:57.336579Z"
    },
    "trusted": true
   },
   "outputs": [],
   "source": [
    "test_loader = DataLoader(test_dataset, batch_size=64)"
   ]
  },
  {
   "cell_type": "code",
   "execution_count": null,
   "metadata": {
    "execution": {
     "iopub.execute_input": "2025-04-16T06:57:03.081210Z",
     "iopub.status.busy": "2025-04-16T06:57:03.080483Z",
     "iopub.status.idle": "2025-04-16T06:57:03.086781Z",
     "shell.execute_reply": "2025-04-16T06:57:03.085895Z",
     "shell.execute_reply.started": "2025-04-16T06:57:03.081176Z"
    },
    "trusted": true
   },
   "outputs": [],
   "source": [
    "len(test_loader)"
   ]
  },
  {
   "cell_type": "code",
   "execution_count": null,
   "metadata": {
    "execution": {
     "iopub.execute_input": "2025-04-16T07:00:03.955624Z",
     "iopub.status.busy": "2025-04-16T07:00:03.955318Z",
     "iopub.status.idle": "2025-04-16T07:02:55.830573Z",
     "shell.execute_reply": "2025-04-16T07:02:55.829851Z",
     "shell.execute_reply.started": "2025-04-16T07:00:03.955600Z"
    },
    "trusted": true
   },
   "outputs": [],
   "source": [
    "model.eval()\n",
    "results = []\n",
    "\n",
    "with torch.no_grad():\n",
    "    for images, img_ids in test_loader:\n",
    "        images = images.to(device)\n",
    "        outputs = model(images)\n",
    "        preds = (outputs > 0.5).int().squeeze().cpu().numpy()\n",
    "        for img_id, pred in zip(img_ids, preds):\n",
    "            results.append((img_id, pred))"
   ]
  },
  {
   "cell_type": "code",
   "execution_count": null,
   "metadata": {
    "execution": {
     "iopub.execute_input": "2025-04-16T07:03:26.830202Z",
     "iopub.status.busy": "2025-04-16T07:03:26.829876Z",
     "iopub.status.idle": "2025-04-16T07:03:26.835930Z",
     "shell.execute_reply": "2025-04-16T07:03:26.834985Z",
     "shell.execute_reply.started": "2025-04-16T07:03:26.830181Z"
    },
    "trusted": true
   },
   "outputs": [],
   "source": [
    "len(results)"
   ]
  },
  {
   "cell_type": "code",
   "execution_count": null,
   "metadata": {
    "execution": {
     "iopub.execute_input": "2025-04-16T07:09:49.523213Z",
     "iopub.status.busy": "2025-04-16T07:09:49.522931Z",
     "iopub.status.idle": "2025-04-16T07:09:49.529341Z",
     "shell.execute_reply": "2025-04-16T07:09:49.528364Z",
     "shell.execute_reply.started": "2025-04-16T07:09:49.523193Z"
    },
    "trusted": true
   },
   "outputs": [],
   "source": [
    "type(results[0][0])"
   ]
  },
  {
   "cell_type": "markdown",
   "metadata": {},
   "source": [
    "### results to csv\n",
    "\n",
    "- submission.csv 파일을 submit 할것!"
   ]
  },
  {
   "cell_type": "code",
   "execution_count": null,
   "metadata": {
    "execution": {
     "iopub.execute_input": "2025-04-16T07:04:01.471710Z",
     "iopub.status.busy": "2025-04-16T07:04:01.471397Z",
     "iopub.status.idle": "2025-04-16T07:04:01.475559Z",
     "shell.execute_reply": "2025-04-16T07:04:01.474891Z",
     "shell.execute_reply.started": "2025-04-16T07:04:01.471685Z"
    },
    "trusted": true
   },
   "outputs": [],
   "source": [
    "import pandas as pd"
   ]
  },
  {
   "cell_type": "code",
   "execution_count": null,
   "metadata": {
    "execution": {
     "iopub.execute_input": "2025-04-16T07:04:38.401979Z",
     "iopub.status.busy": "2025-04-16T07:04:38.401321Z",
     "iopub.status.idle": "2025-04-16T07:04:38.449588Z",
     "shell.execute_reply": "2025-04-16T07:04:38.448589Z",
     "shell.execute_reply.started": "2025-04-16T07:04:38.401946Z"
    },
    "trusted": true
   },
   "outputs": [],
   "source": [
    "results.sort(key=lambda x: x[0])"
   ]
  },
  {
   "cell_type": "code",
   "execution_count": null,
   "metadata": {
    "execution": {
     "iopub.execute_input": "2025-04-16T07:09:58.147415Z",
     "iopub.status.busy": "2025-04-16T07:09:58.147053Z",
     "iopub.status.idle": "2025-04-16T07:09:58.166153Z",
     "shell.execute_reply": "2025-04-16T07:09:58.165263Z",
     "shell.execute_reply.started": "2025-04-16T07:09:58.147390Z"
    },
    "trusted": true
   },
   "outputs": [],
   "source": [
    "results = [(int(i), int(label)) for i, label in results]"
   ]
  },
  {
   "cell_type": "code",
   "execution_count": null,
   "metadata": {
    "execution": {
     "iopub.execute_input": "2025-04-16T07:10:00.037002Z",
     "iopub.status.busy": "2025-04-16T07:10:00.036630Z",
     "iopub.status.idle": "2025-04-16T07:10:00.053718Z",
     "shell.execute_reply": "2025-04-16T07:10:00.052957Z",
     "shell.execute_reply.started": "2025-04-16T07:10:00.036977Z"
    },
    "trusted": true
   },
   "outputs": [],
   "source": [
    "df = pd.DataFrame(results, columns=['id', 'label'])\n",
    "df.tail()"
   ]
  },
  {
   "cell_type": "code",
   "execution_count": null,
   "metadata": {
    "execution": {
     "iopub.execute_input": "2025-04-16T07:10:03.218131Z",
     "iopub.status.busy": "2025-04-16T07:10:03.217809Z",
     "iopub.status.idle": "2025-04-16T07:10:03.233399Z",
     "shell.execute_reply": "2025-04-16T07:10:03.232445Z",
     "shell.execute_reply.started": "2025-04-16T07:10:03.218108Z"
    },
    "trusted": true
   },
   "outputs": [],
   "source": [
    "df.to_csv('submission.csv', index=False)"
   ]
  },
  {
   "cell_type": "code",
   "execution_count": null,
   "metadata": {
    "execution": {
     "iopub.execute_input": "2025-04-16T07:10:05.557241Z",
     "iopub.status.busy": "2025-04-16T07:10:05.556949Z",
     "iopub.status.idle": "2025-04-16T07:10:05.569523Z",
     "shell.execute_reply": "2025-04-16T07:10:05.568392Z",
     "shell.execute_reply.started": "2025-04-16T07:10:05.557221Z"
    },
    "trusted": true
   },
   "outputs": [],
   "source": [
    "df2 = pd.read_csv('submission.csv')\n",
    "df2.tail()"
   ]
  }
 ],
 "metadata": {
  "kaggle": {
   "accelerator": "none",
   "dataSources": [
    {
     "databundleVersionId": 31148,
     "sourceId": 3362,
     "sourceType": "competition"
    }
   ],
   "dockerImageVersionId": 31012,
   "isGpuEnabled": false,
   "isInternetEnabled": true,
   "language": "python",
   "sourceType": "notebook"
  },
  "kernelspec": {
   "display_name": "Python 3",
   "language": "python",
   "name": "python3"
  },
  "language_info": {
   "codemirror_mode": {
    "name": "ipython",
    "version": 3
   },
   "file_extension": ".py",
   "mimetype": "text/x-python",
   "name": "python",
   "nbconvert_exporter": "python",
   "pygments_lexer": "ipython3",
   "version": "3.11.11"
  }
 },
 "nbformat": 4,
 "nbformat_minor": 4
}
