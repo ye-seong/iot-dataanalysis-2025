{
 "cells": [
  {
   "cell_type": "markdown",
   "id": "327682b6",
   "metadata": {},
   "source": [
    "### 전체 모델을 다른 곳에 로드할 때\n",
    "\n",
    "- 모델의 클래스 정의는 같이 포함되어 있어야 함\n",
    "- 모델 로드 실행하면 됨"
   ]
  },
  {
   "cell_type": "code",
   "execution_count": 5,
   "id": "3a1d1d1a",
   "metadata": {},
   "outputs": [],
   "source": [
    "# 사용모듈 로드\n",
    "import torch\n",
    "import torch.nn as nn\n",
    "import torch.nn.functional as F"
   ]
  },
  {
   "cell_type": "code",
   "execution_count": 8,
   "id": "db7893c1",
   "metadata": {},
   "outputs": [],
   "source": [
    "# 클래스 정의 필요\n",
    "class CatDogCNN(nn.Module):\n",
    "    def __init__(self):\n",
    "        super(CatDogCNN, self).__init__()\n",
    "        self.conv1 = nn.Conv2d(3, 32, kernel_size=3, padding=1)\n",
    "        self.pool = nn.MaxPool2d(2, 2)  # conv1, conv2 모두 사용\n",
    "        self.conv2 = nn.Conv2d(32, 64, kernel_size=3, padding=1)\n",
    "        self.fc1 = nn.Linear(64 * 32 * 32, 128) # MaxPool(128) -> MaxPool(64) -> 32x32 \n",
    "        self.fc2 = nn.Linear(128, 1)  # 마지막 분류가 0, 1 \n",
    "\n",
    "    def forward(self, x):\n",
    "        # conv -> activation -> maxpooling 2회실시\n",
    "        # dense1, 2 통과\n",
    "        x = self.pool(F.relu(self.conv1(x)))\n",
    "        x = self.pool(F.relu(self.conv2(x)))        \n",
    "        x = x.view(-1, 64 * 32 * 32)                # flattern -> 1차원 배열화, 65,536개 입력\n",
    "        x = F.relu(self.fc1(x))\n",
    "        x = torch.sigmoid(self.fc2(x))              # F.sigmoid() deprecated\n",
    "        return x"
   ]
  },
  {
   "cell_type": "code",
   "execution_count": 10,
   "id": "1eb9bbd7",
   "metadata": {},
   "outputs": [],
   "source": [
    "# weights_only=False 필수\n",
    "model = torch.load('./catdog_model.pth', weights_only=False)"
   ]
  },
  {
   "cell_type": "code",
   "execution_count": 11,
   "id": "2f5e30b7",
   "metadata": {},
   "outputs": [
    {
     "data": {
      "text/plain": [
       "CatDogCNN(\n",
       "  (conv1): Conv2d(3, 32, kernel_size=(3, 3), stride=(1, 1), padding=(1, 1))\n",
       "  (pool): MaxPool2d(kernel_size=2, stride=2, padding=0, dilation=1, ceil_mode=False)\n",
       "  (conv2): Conv2d(32, 64, kernel_size=(3, 3), stride=(1, 1), padding=(1, 1))\n",
       "  (fc1): Linear(in_features=65536, out_features=128, bias=True)\n",
       "  (fc2): Linear(in_features=128, out_features=1, bias=True)\n",
       ")"
      ]
     },
     "execution_count": 11,
     "metadata": {},
     "output_type": "execute_result"
    }
   ],
   "source": [
    "model"
   ]
  }
 ],
 "metadata": {
  "kernelspec": {
   "display_name": "mlvenv",
   "language": "python",
   "name": "python3"
  },
  "language_info": {
   "codemirror_mode": {
    "name": "ipython",
    "version": 3
   },
   "file_extension": ".py",
   "mimetype": "text/x-python",
   "name": "python",
   "nbconvert_exporter": "python",
   "pygments_lexer": "ipython3",
   "version": "3.11.9"
  }
 },
 "nbformat": 4,
 "nbformat_minor": 5
}
